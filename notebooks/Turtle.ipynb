{
 "cells": [
  {
   "cell_type": "code",
   "execution_count": 1,
   "metadata": {},
   "outputs": [],
   "source": [
    "import turtle\n",
    "from turtle import Turtle\n",
    "\n",
    "import numpy as np\n",
    "\n",
    "turtle.setup(800, 600)\n",
    "turtle.screensize(800, 600)"
   ]
  },
  {
   "cell_type": "code",
   "execution_count": null,
   "metadata": {},
   "outputs": [],
   "source": []
  },
  {
   "cell_type": "code",
   "execution_count": 39,
   "metadata": {},
   "outputs": [],
   "source": [
    "turtle.clearscreen()"
   ]
  },
  {
   "cell_type": "code",
   "execution_count": 4,
   "metadata": {},
   "outputs": [],
   "source": [
    "?turtle"
   ]
  },
  {
   "cell_type": "code",
   "execution_count": 2,
   "metadata": {},
   "outputs": [],
   "source": [
    "Esiotrot = Turtle()"
   ]
  },
  {
   "cell_type": "code",
   "execution_count": 3,
   "metadata": {},
   "outputs": [],
   "source": [
    "def draw_square(side_length, turt):\n",
    "    \"\"\"Draw a square with a turtle.\n",
    "    \n",
    "    Parameter\n",
    "    =========\n",
    "    * side_length : int, length of sides\n",
    "    * turt : Turtle Object\n",
    "    \n",
    "    \"\"\"\n",
    "    for i in range(0,4):\n",
    "        turt.forward(side_length)\n",
    "        turt.left(90)\n",
    "    # End for\n",
    "    \n",
    "#     i = 0\n",
    "#     while i <= 3:\n",
    "#         turt.forward(side_length)\n",
    "#         turt.left(90)        \n",
    "#         i = i + 1\n",
    "#     # End while"
   ]
  },
  {
   "cell_type": "code",
   "execution_count": 4,
   "metadata": {},
   "outputs": [],
   "source": [
    "def move(turt, x, y):\n",
    "    \"\"\" Move somewhere\n",
    "    Parameter\n",
    "    \"\"\"\n",
    "    turt.penup()\n",
    "    turt.goto(x,y)\n",
    "    turt.pendown()\n",
    "    \n",
    "def draw_circle(turt, radius, color):\n",
    "    original = turt.pencolor()\n",
    "    turt.pencolor(color)\n",
    "    turt.circle(radius)\n",
    "    turt.pencolor(original)"
   ]
  },
  {
   "cell_type": "code",
   "execution_count": 5,
   "metadata": {},
   "outputs": [],
   "source": [
    "def move_and_draw(turt, x, y, radius, color='black'):\n",
    "    move(turt, x, y)\n",
    "    draw_circle(turt, radius, color)\n",
    "    \n",
    "def pick_coordinate(coordinates):\n",
    "    choice = np.random.choice(list(coordinates.keys()))\n",
    "    # return coordinates[choice] \n",
    "    return choice"
   ]
  },
  {
   "cell_type": "code",
   "execution_count": 6,
   "metadata": {},
   "outputs": [],
   "source": [
    "def move_halfway_and_draw(turt, x, y, radius=5, color='black'):\n",
    "    curr_x, curr_y = turt.position()\n",
    "    new_x, new_y = 0.5*(curr_x+x), 0.5*(curr_y+y)\n",
    "    move_and_draw(turt, new_x, new_y, radius, color)"
   ]
  },
  {
   "cell_type": "code",
   "execution_count": null,
   "metadata": {},
   "outputs": [],
   "source": []
  },
  {
   "cell_type": "code",
   "execution_count": 51,
   "metadata": {},
   "outputs": [],
   "source": [
    "?Esiotrot.position"
   ]
  },
  {
   "cell_type": "code",
   "execution_count": 16,
   "metadata": {},
   "outputs": [],
   "source": [
    "draw_square(50, Esiotrot)"
   ]
  },
  {
   "cell_type": "code",
   "execution_count": 41,
   "metadata": {},
   "outputs": [],
   "source": [
    "Schnappy = Turtle()\n",
    "Schnappy.color('green')\n",
    "# draw_square(Schnappy, 42)"
   ]
  },
  {
   "cell_type": "code",
   "execution_count": 25,
   "metadata": {},
   "outputs": [],
   "source": [
    "move(Esiotrot, 20, 20)"
   ]
  },
  {
   "cell_type": "code",
   "execution_count": 26,
   "metadata": {},
   "outputs": [],
   "source": [
    "draw_circle(Esiotrot, 25)"
   ]
  },
  {
   "cell_type": "code",
   "execution_count": 37,
   "metadata": {},
   "outputs": [],
   "source": [
    "move_and_draw(Esiotrot, 150, 50, 25, 'green')"
   ]
  },
  {
   "cell_type": "code",
   "execution_count": 38,
   "metadata": {},
   "outputs": [],
   "source": [
    "Esiotrot.forward(32)"
   ]
  },
  {
   "cell_type": "code",
   "execution_count": 46,
   "metadata": {},
   "outputs": [
    {
     "name": "stdout",
     "output_type": "stream",
     "text": [
      "5 is not 10\n"
     ]
    }
   ],
   "source": [
    "x, y = [5, 10]"
   ]
  },
  {
   "cell_type": "code",
   "execution_count": 49,
   "metadata": {},
   "outputs": [],
   "source": [
    "for i in range(0,3):\n",
    "    pass\n",
    "\n",
    "for x, y in [(34,43), (45,54), (88,88)]:\n",
    "    move_and_draw(Esiotrot, x, y, 67, 'blue')\n",
    "# end for"
   ]
  },
  {
   "cell_type": "code",
   "execution_count": 44,
   "metadata": {},
   "outputs": [
    {
     "name": "stdout",
     "output_type": "stream",
     "text": [
      "x\n",
      "0\n",
      "[2, 3]\n",
      "(2, 3, 4, 5, 5)\n"
     ]
    }
   ],
   "source": [
    "for i in ['x', 0, [2,3], (2,3,4,5,5)]:\n",
    "    print(i)"
   ]
  },
  {
   "cell_type": "code",
   "execution_count": 5,
   "metadata": {},
   "outputs": [
    {
     "data": {
      "text/plain": [
       "(800, 600)"
      ]
     },
     "execution_count": 5,
     "metadata": {},
     "output_type": "execute_result"
    }
   ],
   "source": [
    "turtle.screensize()"
   ]
  },
  {
   "cell_type": "code",
   "execution_count": 5,
   "metadata": {},
   "outputs": [],
   "source": [
    "# for x, y in [(4,4), (-198,270), (200,150)]:\n",
    "#     move_and_draw(Esiotrot, x, y, 6, 'red')"
   ]
  },
  {
   "cell_type": "code",
   "execution_count": 42,
   "metadata": {},
   "outputs": [],
   "source": [
    "# x, y = pick_coordinate(coordinates)\n",
    "# move_and_draw(Esiotrot, x, y, 5)"
   ]
  },
  {
   "cell_type": "code",
   "execution_count": 7,
   "metadata": {},
   "outputs": [],
   "source": [
    "# draw triangle coords\n",
    "\n",
    "coordinates = {\"A\": (4,4), \"B\": (-198,270), \"C\": (200,150)}\n",
    "\n",
    "for x, y in list(coordinates.values()):\n",
    "    move_and_draw(Esiotrot, x, y, 7, 'blue')"
   ]
  },
  {
   "cell_type": "code",
   "execution_count": null,
   "metadata": {},
   "outputs": [],
   "source": [
    "Esiotrot.speed(0)\n",
    "\n",
    "color_choices = {\"A\": 'red', \"B\": 'blue', \"C\": 'green'}\n",
    "\n",
    "for i in range(2000):\n",
    "    choice = pick_coordinate(coordinates)\n",
    "    x, y = coordinates[choice]\n",
    "    color = color_choices[choice]\n",
    "    move_halfway_and_draw(Esiotrot, x, y, radius=2, color=color)"
   ]
  },
  {
   "cell_type": "code",
   "execution_count": null,
   "metadata": {},
   "outputs": [],
   "source": []
  }
 ],
 "metadata": {
  "kernelspec": {
   "display_name": "Python (turtle-demo)",
   "language": "python",
   "name": "turtle-chaos-demo"
  },
  "language_info": {
   "codemirror_mode": {
    "name": "ipython",
    "version": 3
   },
   "file_extension": ".py",
   "mimetype": "text/x-python",
   "name": "python",
   "nbconvert_exporter": "python",
   "pygments_lexer": "ipython3",
   "version": "3.6.1"
  }
 },
 "nbformat": 4,
 "nbformat_minor": 2
}
